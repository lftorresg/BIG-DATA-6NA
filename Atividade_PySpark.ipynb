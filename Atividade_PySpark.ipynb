{
  "nbformat": 4,
  "nbformat_minor": 0,
  "metadata": {
    "colab": {
      "provenance": []
    },
    "kernelspec": {
      "name": "python3",
      "display_name": "Python 3"
    },
    "language_info": {
      "name": "python"
    }
  },
  "cells": [
    {
      "cell_type": "code",
      "execution_count": 3,
      "metadata": {
        "colab": {
          "base_uri": "https://localhost:8080/"
        },
        "id": "fPIwCUX0-D8a",
        "outputId": "a81378a2-9d0a-4fbb-a29a-c1fb3db3a364"
      },
      "outputs": [
        {
          "output_type": "stream",
          "name": "stdout",
          "text": [
            "Requirement already satisfied: pyspark in /usr/local/lib/python3.10/dist-packages (3.5.3)\n",
            "Requirement already satisfied: py4j==0.10.9.7 in /usr/local/lib/python3.10/dist-packages (from pyspark) (0.10.9.7)\n"
          ]
        }
      ],
      "source": [
        "# Instalar PySpark via pip\n",
        "!pip install pyspark"
      ]
    },
    {
      "cell_type": "code",
      "source": [
        "import kagglehub\n",
        "\n",
        "# Download latest version\n",
        "path = kagglehub.dataset_download(\"abdulszz/spotify-most-streamed-songs\")\n",
        "\n",
        "print(\"Path to dataset files:\", path)\n",
        "\n",
        "path_f1 = kagglehub.dataset_download(\"rprkh15/f1-race-and-qualifying-data\")\n",
        "\n",
        "print(\"Path to dataset files:\", path_f1)"
      ],
      "metadata": {
        "colab": {
          "base_uri": "https://localhost:8080/"
        },
        "id": "BxhhcwsfscYT",
        "outputId": "45bceb06-9832-4ffb-9ee7-93be76deaba9"
      },
      "execution_count": 2,
      "outputs": [
        {
          "output_type": "stream",
          "name": "stdout",
          "text": [
            "Warning: Looks like you're using an outdated `kagglehub` version, please consider updating (latest version: 0.3.3)\n",
            "Path to dataset files: /root/.cache/kagglehub/datasets/abdulszz/spotify-most-streamed-songs/versions/2\n",
            "Warning: Looks like you're using an outdated `kagglehub` version, please consider updating (latest version: 0.3.3)\n",
            "Downloading from https://www.kaggle.com/api/v1/datasets/download/rprkh15/f1-race-and-qualifying-data?dataset_version_number=45...\n"
          ]
        },
        {
          "output_type": "stream",
          "name": "stderr",
          "text": [
            "100%|██████████| 1.68M/1.68M [00:00<00:00, 66.5MB/s]"
          ]
        },
        {
          "output_type": "stream",
          "name": "stdout",
          "text": [
            "Extracting files...\n"
          ]
        },
        {
          "output_type": "stream",
          "name": "stderr",
          "text": [
            "\n"
          ]
        },
        {
          "output_type": "stream",
          "name": "stdout",
          "text": [
            "Path to dataset files: /root/.cache/kagglehub/datasets/rprkh15/f1-race-and-qualifying-data/versions/45\n"
          ]
        }
      ]
    },
    {
      "cell_type": "code",
      "source": [
        "# Iniciar uma Sessão Spark\n",
        "from pyspark.sql import SparkSession\n",
        "\n",
        "spark = SparkSession.builder \\\n",
        "    .appName(\"AppPySpark\") \\\n",
        "    .getOrCreate()"
      ],
      "metadata": {
        "id": "ZKDUH38tSMgE"
      },
      "execution_count": 4,
      "outputs": []
    },
    {
      "cell_type": "markdown",
      "source": [
        "**Comparando métodos do pandas x métodos do PySpark**\n",
        "\n",
        "Leitura de Dados:"
      ],
      "metadata": {
        "id": "PbTdKPDVTaDq"
      }
    },
    {
      "cell_type": "code",
      "source": [
        "import pandas as pd\n",
        "df_pandas = pd.read_csv(\"/root/.cache/kagglehub/datasets/abdulszz/spotify-most-streamed-songs/versions/2/Spotify Most Streamed Songs.csv\")"
      ],
      "metadata": {
        "id": "1SR12OBgSX_w"
      },
      "execution_count": 5,
      "outputs": []
    },
    {
      "cell_type": "code",
      "source": [
        "df_pandas.head(4)"
      ],
      "metadata": {
        "colab": {
          "base_uri": "https://localhost:8080/",
          "height": 294
        },
        "id": "7vYjahCwsvh3",
        "outputId": "2b03ba8b-ed15-4cd3-ef51-f1aa27268e59"
      },
      "execution_count": 6,
      "outputs": [
        {
          "output_type": "execute_result",
          "data": {
            "text/plain": [
              "                            track_name    artist(s)_name  artist_count  \\\n",
              "0  Seven (feat. Latto) (Explicit Ver.)  Latto, Jung Kook             2   \n",
              "1                                 LALA       Myke Towers             1   \n",
              "2                              vampire    Olivia Rodrigo             1   \n",
              "3                         Cruel Summer      Taylor Swift             1   \n",
              "\n",
              "   released_year  released_month  released_day  in_spotify_playlists  \\\n",
              "0           2023               7            14                   553   \n",
              "1           2023               3            23                  1474   \n",
              "2           2023               6            30                  1397   \n",
              "3           2019               8            23                  7858   \n",
              "\n",
              "   in_spotify_charts    streams  in_apple_playlists  ...  key   mode  \\\n",
              "0                147  141381703                  43  ...    B  Major   \n",
              "1                 48  133716286                  48  ...   C#  Major   \n",
              "2                113  140003974                  94  ...    F  Major   \n",
              "3                100  800840817                 116  ...    A  Major   \n",
              "\n",
              "   danceability_% valence_%  energy_% acousticness_% instrumentalness_%  \\\n",
              "0              80        89        83             31                  0   \n",
              "1              71        61        74              7                  0   \n",
              "2              51        32        53             17                  0   \n",
              "3              55        58        72             11                  0   \n",
              "\n",
              "   liveness_%  speechiness_%  \\\n",
              "0           8              4   \n",
              "1          10              4   \n",
              "2          31              6   \n",
              "3          11             15   \n",
              "\n",
              "                                           cover_url  \n",
              "0                                          Not Found  \n",
              "1  https://i.scdn.co/image/ab67616d0000b2730656d5...  \n",
              "2  https://i.scdn.co/image/ab67616d0000b273e85259...  \n",
              "3  https://i.scdn.co/image/ab67616d0000b273e787cf...  \n",
              "\n",
              "[4 rows x 25 columns]"
            ],
            "text/html": [
              "\n",
              "  <div id=\"df-5364caa4-ce37-4a2f-b563-f766cdb75e50\" class=\"colab-df-container\">\n",
              "    <div>\n",
              "<style scoped>\n",
              "    .dataframe tbody tr th:only-of-type {\n",
              "        vertical-align: middle;\n",
              "    }\n",
              "\n",
              "    .dataframe tbody tr th {\n",
              "        vertical-align: top;\n",
              "    }\n",
              "\n",
              "    .dataframe thead th {\n",
              "        text-align: right;\n",
              "    }\n",
              "</style>\n",
              "<table border=\"1\" class=\"dataframe\">\n",
              "  <thead>\n",
              "    <tr style=\"text-align: right;\">\n",
              "      <th></th>\n",
              "      <th>track_name</th>\n",
              "      <th>artist(s)_name</th>\n",
              "      <th>artist_count</th>\n",
              "      <th>released_year</th>\n",
              "      <th>released_month</th>\n",
              "      <th>released_day</th>\n",
              "      <th>in_spotify_playlists</th>\n",
              "      <th>in_spotify_charts</th>\n",
              "      <th>streams</th>\n",
              "      <th>in_apple_playlists</th>\n",
              "      <th>...</th>\n",
              "      <th>key</th>\n",
              "      <th>mode</th>\n",
              "      <th>danceability_%</th>\n",
              "      <th>valence_%</th>\n",
              "      <th>energy_%</th>\n",
              "      <th>acousticness_%</th>\n",
              "      <th>instrumentalness_%</th>\n",
              "      <th>liveness_%</th>\n",
              "      <th>speechiness_%</th>\n",
              "      <th>cover_url</th>\n",
              "    </tr>\n",
              "  </thead>\n",
              "  <tbody>\n",
              "    <tr>\n",
              "      <th>0</th>\n",
              "      <td>Seven (feat. Latto) (Explicit Ver.)</td>\n",
              "      <td>Latto, Jung Kook</td>\n",
              "      <td>2</td>\n",
              "      <td>2023</td>\n",
              "      <td>7</td>\n",
              "      <td>14</td>\n",
              "      <td>553</td>\n",
              "      <td>147</td>\n",
              "      <td>141381703</td>\n",
              "      <td>43</td>\n",
              "      <td>...</td>\n",
              "      <td>B</td>\n",
              "      <td>Major</td>\n",
              "      <td>80</td>\n",
              "      <td>89</td>\n",
              "      <td>83</td>\n",
              "      <td>31</td>\n",
              "      <td>0</td>\n",
              "      <td>8</td>\n",
              "      <td>4</td>\n",
              "      <td>Not Found</td>\n",
              "    </tr>\n",
              "    <tr>\n",
              "      <th>1</th>\n",
              "      <td>LALA</td>\n",
              "      <td>Myke Towers</td>\n",
              "      <td>1</td>\n",
              "      <td>2023</td>\n",
              "      <td>3</td>\n",
              "      <td>23</td>\n",
              "      <td>1474</td>\n",
              "      <td>48</td>\n",
              "      <td>133716286</td>\n",
              "      <td>48</td>\n",
              "      <td>...</td>\n",
              "      <td>C#</td>\n",
              "      <td>Major</td>\n",
              "      <td>71</td>\n",
              "      <td>61</td>\n",
              "      <td>74</td>\n",
              "      <td>7</td>\n",
              "      <td>0</td>\n",
              "      <td>10</td>\n",
              "      <td>4</td>\n",
              "      <td>https://i.scdn.co/image/ab67616d0000b2730656d5...</td>\n",
              "    </tr>\n",
              "    <tr>\n",
              "      <th>2</th>\n",
              "      <td>vampire</td>\n",
              "      <td>Olivia Rodrigo</td>\n",
              "      <td>1</td>\n",
              "      <td>2023</td>\n",
              "      <td>6</td>\n",
              "      <td>30</td>\n",
              "      <td>1397</td>\n",
              "      <td>113</td>\n",
              "      <td>140003974</td>\n",
              "      <td>94</td>\n",
              "      <td>...</td>\n",
              "      <td>F</td>\n",
              "      <td>Major</td>\n",
              "      <td>51</td>\n",
              "      <td>32</td>\n",
              "      <td>53</td>\n",
              "      <td>17</td>\n",
              "      <td>0</td>\n",
              "      <td>31</td>\n",
              "      <td>6</td>\n",
              "      <td>https://i.scdn.co/image/ab67616d0000b273e85259...</td>\n",
              "    </tr>\n",
              "    <tr>\n",
              "      <th>3</th>\n",
              "      <td>Cruel Summer</td>\n",
              "      <td>Taylor Swift</td>\n",
              "      <td>1</td>\n",
              "      <td>2019</td>\n",
              "      <td>8</td>\n",
              "      <td>23</td>\n",
              "      <td>7858</td>\n",
              "      <td>100</td>\n",
              "      <td>800840817</td>\n",
              "      <td>116</td>\n",
              "      <td>...</td>\n",
              "      <td>A</td>\n",
              "      <td>Major</td>\n",
              "      <td>55</td>\n",
              "      <td>58</td>\n",
              "      <td>72</td>\n",
              "      <td>11</td>\n",
              "      <td>0</td>\n",
              "      <td>11</td>\n",
              "      <td>15</td>\n",
              "      <td>https://i.scdn.co/image/ab67616d0000b273e787cf...</td>\n",
              "    </tr>\n",
              "  </tbody>\n",
              "</table>\n",
              "<p>4 rows × 25 columns</p>\n",
              "</div>\n",
              "    <div class=\"colab-df-buttons\">\n",
              "\n",
              "  <div class=\"colab-df-container\">\n",
              "    <button class=\"colab-df-convert\" onclick=\"convertToInteractive('df-5364caa4-ce37-4a2f-b563-f766cdb75e50')\"\n",
              "            title=\"Convert this dataframe to an interactive table.\"\n",
              "            style=\"display:none;\">\n",
              "\n",
              "  <svg xmlns=\"http://www.w3.org/2000/svg\" height=\"24px\" viewBox=\"0 -960 960 960\">\n",
              "    <path d=\"M120-120v-720h720v720H120Zm60-500h600v-160H180v160Zm220 220h160v-160H400v160Zm0 220h160v-160H400v160ZM180-400h160v-160H180v160Zm440 0h160v-160H620v160ZM180-180h160v-160H180v160Zm440 0h160v-160H620v160Z\"/>\n",
              "  </svg>\n",
              "    </button>\n",
              "\n",
              "  <style>\n",
              "    .colab-df-container {\n",
              "      display:flex;\n",
              "      gap: 12px;\n",
              "    }\n",
              "\n",
              "    .colab-df-convert {\n",
              "      background-color: #E8F0FE;\n",
              "      border: none;\n",
              "      border-radius: 50%;\n",
              "      cursor: pointer;\n",
              "      display: none;\n",
              "      fill: #1967D2;\n",
              "      height: 32px;\n",
              "      padding: 0 0 0 0;\n",
              "      width: 32px;\n",
              "    }\n",
              "\n",
              "    .colab-df-convert:hover {\n",
              "      background-color: #E2EBFA;\n",
              "      box-shadow: 0px 1px 2px rgba(60, 64, 67, 0.3), 0px 1px 3px 1px rgba(60, 64, 67, 0.15);\n",
              "      fill: #174EA6;\n",
              "    }\n",
              "\n",
              "    .colab-df-buttons div {\n",
              "      margin-bottom: 4px;\n",
              "    }\n",
              "\n",
              "    [theme=dark] .colab-df-convert {\n",
              "      background-color: #3B4455;\n",
              "      fill: #D2E3FC;\n",
              "    }\n",
              "\n",
              "    [theme=dark] .colab-df-convert:hover {\n",
              "      background-color: #434B5C;\n",
              "      box-shadow: 0px 1px 3px 1px rgba(0, 0, 0, 0.15);\n",
              "      filter: drop-shadow(0px 1px 2px rgba(0, 0, 0, 0.3));\n",
              "      fill: #FFFFFF;\n",
              "    }\n",
              "  </style>\n",
              "\n",
              "    <script>\n",
              "      const buttonEl =\n",
              "        document.querySelector('#df-5364caa4-ce37-4a2f-b563-f766cdb75e50 button.colab-df-convert');\n",
              "      buttonEl.style.display =\n",
              "        google.colab.kernel.accessAllowed ? 'block' : 'none';\n",
              "\n",
              "      async function convertToInteractive(key) {\n",
              "        const element = document.querySelector('#df-5364caa4-ce37-4a2f-b563-f766cdb75e50');\n",
              "        const dataTable =\n",
              "          await google.colab.kernel.invokeFunction('convertToInteractive',\n",
              "                                                    [key], {});\n",
              "        if (!dataTable) return;\n",
              "\n",
              "        const docLinkHtml = 'Like what you see? Visit the ' +\n",
              "          '<a target=\"_blank\" href=https://colab.research.google.com/notebooks/data_table.ipynb>data table notebook</a>'\n",
              "          + ' to learn more about interactive tables.';\n",
              "        element.innerHTML = '';\n",
              "        dataTable['output_type'] = 'display_data';\n",
              "        await google.colab.output.renderOutput(dataTable, element);\n",
              "        const docLink = document.createElement('div');\n",
              "        docLink.innerHTML = docLinkHtml;\n",
              "        element.appendChild(docLink);\n",
              "      }\n",
              "    </script>\n",
              "  </div>\n",
              "\n",
              "\n",
              "<div id=\"df-fa812cd3-69b8-4a4b-8d71-fc017c3e58af\">\n",
              "  <button class=\"colab-df-quickchart\" onclick=\"quickchart('df-fa812cd3-69b8-4a4b-8d71-fc017c3e58af')\"\n",
              "            title=\"Suggest charts\"\n",
              "            style=\"display:none;\">\n",
              "\n",
              "<svg xmlns=\"http://www.w3.org/2000/svg\" height=\"24px\"viewBox=\"0 0 24 24\"\n",
              "     width=\"24px\">\n",
              "    <g>\n",
              "        <path d=\"M19 3H5c-1.1 0-2 .9-2 2v14c0 1.1.9 2 2 2h14c1.1 0 2-.9 2-2V5c0-1.1-.9-2-2-2zM9 17H7v-7h2v7zm4 0h-2V7h2v10zm4 0h-2v-4h2v4z\"/>\n",
              "    </g>\n",
              "</svg>\n",
              "  </button>\n",
              "\n",
              "<style>\n",
              "  .colab-df-quickchart {\n",
              "      --bg-color: #E8F0FE;\n",
              "      --fill-color: #1967D2;\n",
              "      --hover-bg-color: #E2EBFA;\n",
              "      --hover-fill-color: #174EA6;\n",
              "      --disabled-fill-color: #AAA;\n",
              "      --disabled-bg-color: #DDD;\n",
              "  }\n",
              "\n",
              "  [theme=dark] .colab-df-quickchart {\n",
              "      --bg-color: #3B4455;\n",
              "      --fill-color: #D2E3FC;\n",
              "      --hover-bg-color: #434B5C;\n",
              "      --hover-fill-color: #FFFFFF;\n",
              "      --disabled-bg-color: #3B4455;\n",
              "      --disabled-fill-color: #666;\n",
              "  }\n",
              "\n",
              "  .colab-df-quickchart {\n",
              "    background-color: var(--bg-color);\n",
              "    border: none;\n",
              "    border-radius: 50%;\n",
              "    cursor: pointer;\n",
              "    display: none;\n",
              "    fill: var(--fill-color);\n",
              "    height: 32px;\n",
              "    padding: 0;\n",
              "    width: 32px;\n",
              "  }\n",
              "\n",
              "  .colab-df-quickchart:hover {\n",
              "    background-color: var(--hover-bg-color);\n",
              "    box-shadow: 0 1px 2px rgba(60, 64, 67, 0.3), 0 1px 3px 1px rgba(60, 64, 67, 0.15);\n",
              "    fill: var(--button-hover-fill-color);\n",
              "  }\n",
              "\n",
              "  .colab-df-quickchart-complete:disabled,\n",
              "  .colab-df-quickchart-complete:disabled:hover {\n",
              "    background-color: var(--disabled-bg-color);\n",
              "    fill: var(--disabled-fill-color);\n",
              "    box-shadow: none;\n",
              "  }\n",
              "\n",
              "  .colab-df-spinner {\n",
              "    border: 2px solid var(--fill-color);\n",
              "    border-color: transparent;\n",
              "    border-bottom-color: var(--fill-color);\n",
              "    animation:\n",
              "      spin 1s steps(1) infinite;\n",
              "  }\n",
              "\n",
              "  @keyframes spin {\n",
              "    0% {\n",
              "      border-color: transparent;\n",
              "      border-bottom-color: var(--fill-color);\n",
              "      border-left-color: var(--fill-color);\n",
              "    }\n",
              "    20% {\n",
              "      border-color: transparent;\n",
              "      border-left-color: var(--fill-color);\n",
              "      border-top-color: var(--fill-color);\n",
              "    }\n",
              "    30% {\n",
              "      border-color: transparent;\n",
              "      border-left-color: var(--fill-color);\n",
              "      border-top-color: var(--fill-color);\n",
              "      border-right-color: var(--fill-color);\n",
              "    }\n",
              "    40% {\n",
              "      border-color: transparent;\n",
              "      border-right-color: var(--fill-color);\n",
              "      border-top-color: var(--fill-color);\n",
              "    }\n",
              "    60% {\n",
              "      border-color: transparent;\n",
              "      border-right-color: var(--fill-color);\n",
              "    }\n",
              "    80% {\n",
              "      border-color: transparent;\n",
              "      border-right-color: var(--fill-color);\n",
              "      border-bottom-color: var(--fill-color);\n",
              "    }\n",
              "    90% {\n",
              "      border-color: transparent;\n",
              "      border-bottom-color: var(--fill-color);\n",
              "    }\n",
              "  }\n",
              "</style>\n",
              "\n",
              "  <script>\n",
              "    async function quickchart(key) {\n",
              "      const quickchartButtonEl =\n",
              "        document.querySelector('#' + key + ' button');\n",
              "      quickchartButtonEl.disabled = true;  // To prevent multiple clicks.\n",
              "      quickchartButtonEl.classList.add('colab-df-spinner');\n",
              "      try {\n",
              "        const charts = await google.colab.kernel.invokeFunction(\n",
              "            'suggestCharts', [key], {});\n",
              "      } catch (error) {\n",
              "        console.error('Error during call to suggestCharts:', error);\n",
              "      }\n",
              "      quickchartButtonEl.classList.remove('colab-df-spinner');\n",
              "      quickchartButtonEl.classList.add('colab-df-quickchart-complete');\n",
              "    }\n",
              "    (() => {\n",
              "      let quickchartButtonEl =\n",
              "        document.querySelector('#df-fa812cd3-69b8-4a4b-8d71-fc017c3e58af button');\n",
              "      quickchartButtonEl.style.display =\n",
              "        google.colab.kernel.accessAllowed ? 'block' : 'none';\n",
              "    })();\n",
              "  </script>\n",
              "</div>\n",
              "\n",
              "    </div>\n",
              "  </div>\n"
            ],
            "application/vnd.google.colaboratory.intrinsic+json": {
              "type": "dataframe",
              "variable_name": "df_pandas"
            }
          },
          "metadata": {},
          "execution_count": 6
        }
      ]
    },
    {
      "cell_type": "code",
      "source": [
        "from pyspark.sql import SparkSession\n",
        "\n",
        "spark = SparkSession.builder.appName(\"AppLeitura\").getOrCreate()\n",
        "\n",
        "# Leitura de um arquivo CSV\n",
        "df_pyspark = spark.read.csv(\"/root/.cache/kagglehub/datasets/abdulszz/spotify-most-streamed-songs/versions/2/Spotify Most Streamed Songs.csv\", header=True, inferSchema=True)"
      ],
      "metadata": {
        "id": "KxkLRN6VTweh"
      },
      "execution_count": 7,
      "outputs": []
    },
    {
      "cell_type": "code",
      "source": [
        "#Nomes das colunas\n",
        "for i in df_pandas.columns:\n",
        "  print(i)"
      ],
      "metadata": {
        "colab": {
          "base_uri": "https://localhost:8080/"
        },
        "id": "p2JKtAI0s8AA",
        "outputId": "4bdfd387-2f07-4026-95a9-ed9e7555d877"
      },
      "execution_count": 8,
      "outputs": [
        {
          "output_type": "stream",
          "name": "stdout",
          "text": [
            "track_name\n",
            "artist(s)_name\n",
            "artist_count\n",
            "released_year\n",
            "released_month\n",
            "released_day\n",
            "in_spotify_playlists\n",
            "in_spotify_charts\n",
            "streams\n",
            "in_apple_playlists\n",
            "in_apple_charts\n",
            "in_deezer_playlists\n",
            "in_deezer_charts\n",
            "in_shazam_charts\n",
            "bpm\n",
            "key\n",
            "mode\n",
            "danceability_%\n",
            "valence_%\n",
            "energy_%\n",
            "acousticness_%\n",
            "instrumentalness_%\n",
            "liveness_%\n",
            "speechiness_%\n",
            "cover_url\n"
          ]
        }
      ]
    },
    {
      "cell_type": "markdown",
      "source": [
        "Seleção de Colunas:"
      ],
      "metadata": {
        "id": "CyP1qKuVT7Fn"
      }
    },
    {
      "cell_type": "code",
      "source": [
        "# Seleciona colunas específicas - Pandas\n",
        "df_selecionado_pandas = df_pandas[['artist(s)_name', 'track_name','streams']]"
      ],
      "metadata": {
        "id": "W7G9niUIT3YF"
      },
      "execution_count": 9,
      "outputs": []
    },
    {
      "cell_type": "code",
      "source": [
        "# Seleciona colunas específicas - PySpark\n",
        "df_selecionado_spark = df_pyspark.select('artist(s)_name', 'track_name','streams')"
      ],
      "metadata": {
        "id": "9_ayFq__ULWC"
      },
      "execution_count": 10,
      "outputs": []
    },
    {
      "cell_type": "markdown",
      "source": [
        "Filtragem de Dados:"
      ],
      "metadata": {
        "id": "DLDFhVdBUy6M"
      }
    },
    {
      "cell_type": "code",
      "source": [
        "# Filtra linhas onde coluna1 > 100M - Pandas\n",
        "# Convert 'streams' column to numeric, handling errors by coercing to NaN\n",
        "df_pandas['streams'] = pd.to_numeric(df_pandas['streams'], errors='coerce')\n",
        "# Filter rows after conversion\n",
        "df_filtrado_pandas = df_pandas[df_pandas['streams'] > 100000000]"
      ],
      "metadata": {
        "id": "NqYRN_ExU1O6"
      },
      "execution_count": 11,
      "outputs": []
    },
    {
      "cell_type": "code",
      "source": [
        "# Filtra linhas onde coluna1 > 100M - PySpark\n",
        "df_filtrado_spark = df_pyspark.filter(df_pyspark.streams > 100000000)"
      ],
      "metadata": {
        "id": "Qq_YKeXNWnNn"
      },
      "execution_count": 12,
      "outputs": []
    },
    {
      "cell_type": "markdown",
      "source": [
        "Agregações:"
      ],
      "metadata": {
        "id": "Fvn8Qfs-W0KX"
      }
    },
    {
      "cell_type": "code",
      "source": [
        "# Calcula a média de coluna1 agrupada por coluna2 - Pandas\n",
        "df_agregado_pandas = df_pandas.groupby('artist(s)_name')['streams'].mean().reset_index()"
      ],
      "metadata": {
        "id": "5QydNn3yWzkK"
      },
      "execution_count": 13,
      "outputs": []
    },
    {
      "cell_type": "code",
      "source": [
        "# Calcula a média de coluna1 agrupada por coluna2 - PySpark\n",
        "from pyspark.sql.functions import avg, format_number, desc\n",
        "\n",
        "df_agregado_spark = df_pyspark.groupBy(\"artist(s)_name\") \\\n",
        "    .agg(avg(\"streams\").alias(\"artists_avg_streams\")) \\\n",
        "    .withColumn(\"formatted_avg_streams\", format_number(\"artists_avg_streams\", 2)) \\\n",
        "    .select(\"artist(s)_name\", \"formatted_avg_streams\") \\\n",
        "    .orderBy(desc(\"formatted_avg_streams\"))"
      ],
      "metadata": {
        "id": "OeiAonaAW5Cy"
      },
      "execution_count": 14,
      "outputs": []
    },
    {
      "cell_type": "code",
      "source": [
        "df_selecionado_spark.show(5)\n",
        "df_filtrado_spark.show(5)\n",
        "df_agregado_spark.show(5)"
      ],
      "metadata": {
        "colab": {
          "base_uri": "https://localhost:8080/"
        },
        "id": "tjTgUhdMuBqf",
        "outputId": "e446c445-f3d1-40ab-8b97-a885656136a1"
      },
      "execution_count": 15,
      "outputs": [
        {
          "output_type": "stream",
          "name": "stdout",
          "text": [
            "+----------------+--------------------+---------+\n",
            "|  artist(s)_name|          track_name|  streams|\n",
            "+----------------+--------------------+---------+\n",
            "|Latto, Jung Kook|Seven (feat. Latt...|141381703|\n",
            "|     Myke Towers|                LALA|133716286|\n",
            "|  Olivia Rodrigo|             vampire|140003974|\n",
            "|    Taylor Swift|        Cruel Summer|800840817|\n",
            "|       Bad Bunny|      WHERE SHE GOES|303236322|\n",
            "+----------------+--------------------+---------+\n",
            "only showing top 5 rows\n",
            "\n",
            "+--------------------+----------------+------------+-------------+--------------+------------+--------------------+-----------------+---------+------------------+---------------+-------------------+----------------+----------------+---+---+-----+--------------+---------+--------+--------------+------------------+----------+-------------+--------------------+\n",
            "|          track_name|  artist(s)_name|artist_count|released_year|released_month|released_day|in_spotify_playlists|in_spotify_charts|  streams|in_apple_playlists|in_apple_charts|in_deezer_playlists|in_deezer_charts|in_shazam_charts|bpm|key| mode|danceability_%|valence_%|energy_%|acousticness_%|instrumentalness_%|liveness_%|speechiness_%|           cover_url|\n",
            "+--------------------+----------------+------------+-------------+--------------+------------+--------------------+-----------------+---------+------------------+---------------+-------------------+----------------+----------------+---+---+-----+--------------+---------+--------+--------------+------------------+----------+-------------+--------------------+\n",
            "|Seven (feat. Latt...|Latto, Jung Kook|           2|         2023|             7|          14|                 553|              147|141381703|                43|            263|                 45|              10|             826|125|  B|Major|            80|       89|      83|            31|                 0|         8|            4|           Not Found|\n",
            "|                LALA|     Myke Towers|           1|         2023|             3|          23|                1474|               48|133716286|                48|            126|                 58|              14|             382| 92| C#|Major|            71|       61|      74|             7|                 0|        10|            4|https://i.scdn.co...|\n",
            "|             vampire|  Olivia Rodrigo|           1|         2023|             6|          30|                1397|              113|140003974|                94|            207|                 91|              14|             949|138|  F|Major|            51|       32|      53|            17|                 0|        31|            6|https://i.scdn.co...|\n",
            "|        Cruel Summer|    Taylor Swift|           1|         2019|             8|          23|                7858|              100|800840817|               116|            207|                125|              12|             548|170|  A|Major|            55|       58|      72|            11|                 0|        11|           15|https://i.scdn.co...|\n",
            "|      WHERE SHE GOES|       Bad Bunny|           1|         2023|             5|          18|                3133|               50|303236322|                84|            133|                 87|              15|             425|144|  A|Minor|            65|       23|      80|            14|                63|        11|            6|https://i.scdn.co...|\n",
            "+--------------------+----------------+------------+-------------+--------------+------------+--------------------+-----------------+---------+------------------+---------------+-------------------+----------------+----------------+---+---+-----+--------------+---------+--------+--------------+------------------+----------+-------------+--------------------+\n",
            "only showing top 5 rows\n",
            "\n",
            "+--------------------+---------------------+\n",
            "|      artist(s)_name|formatted_avg_streams|\n",
            "+--------------------+---------------------+\n",
            "|           Lil Nas X|       996,248,439.67|\n",
            "|     Duncan Laurence|       991,336,132.00|\n",
            "|Mambo Kingz, DJ L...|        98,628,647.50|\n",
            "|Lost Frequencies,...|       972,509,632.00|\n",
            "|         The Walters|       972,164,968.00|\n",
            "+--------------------+---------------------+\n",
            "only showing top 5 rows\n",
            "\n"
          ]
        }
      ]
    },
    {
      "cell_type": "markdown",
      "source": [
        "Junções (Joins):"
      ],
      "metadata": {
        "id": "gMjrtx18F3gy"
      }
    },
    {
      "cell_type": "code",
      "source": [
        "# Junção de dois DataFrames pandas\n",
        "df1 = pd.read_csv(\"/root/.cache/kagglehub/datasets/rprkh15/f1-race-and-qualifying-data/versions/45/2022/2022/Race Results/australia_race_results.csv\")\n",
        "df2 = pd.read_csv(\"/root/.cache/kagglehub/datasets/rprkh15/f1-race-and-qualifying-data/versions/45/1988/Race Results/australia_race_results.csv\")\n",
        "df_juncao = pd.merge(df1, df2, on=\"Driver\", how=\"left\")"
      ],
      "metadata": {
        "id": "kdBiDsnpF6AM"
      },
      "execution_count": 17,
      "outputs": []
    },
    {
      "cell_type": "code",
      "source": [
        "# Junção de dois DataFrames PySpark\n",
        "df1 = spark.read.csv(\"/root/.cache/kagglehub/datasets/rprkh15/f1-race-and-qualifying-data/versions/45/2022/2022/Race Results/australia_race_results.csv\", header=True, inferSchema=True)\n",
        "df2 = spark.read.csv(\"/root/.cache/kagglehub/datasets/rprkh15/f1-race-and-qualifying-data/versions/45/1988/Race Results/australia_race_results.csv\", header=True, inferSchema=True)\n",
        "df_juncao = df1.join(df2, on=\"Driver\", how=\"left\")"
      ],
      "metadata": {
        "id": "_p6-Ad3MF9PX"
      },
      "execution_count": 18,
      "outputs": []
    }
  ]
}